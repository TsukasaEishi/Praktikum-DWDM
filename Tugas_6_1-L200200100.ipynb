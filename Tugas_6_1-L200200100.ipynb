{
 "cells": [
  {
   "cell_type": "code",
   "execution_count": 2,
   "metadata": {},
   "outputs": [],
   "source": [
    "import pandas as pd"
   ]
  },
  {
   "cell_type": "code",
   "execution_count": 3,
   "metadata": {},
   "outputs": [],
   "source": [
    "test_data = pd.read_csv(\"test.csv\")"
   ]
  },
  {
   "cell_type": "code",
   "execution_count": 10,
   "metadata": {},
   "outputs": [
    {
     "name": "stdout",
     "output_type": "stream",
     "text": [
      "Jumlah data test: 418\n"
     ]
    }
   ],
   "source": [
    "#1\n",
    "print(\"Jumlah data test:\", len(test_data))"
   ]
  },
  {
   "cell_type": "code",
   "execution_count": 19,
   "metadata": {},
   "outputs": [
    {
     "name": "stdout",
     "output_type": "stream",
     "text": [
      "<class 'pandas.core.frame.DataFrame'>\n",
      "RangeIndex: 418 entries, 0 to 417\n",
      "Data columns (total 11 columns):\n",
      " #   Column       Non-Null Count  Dtype  \n",
      "---  ------       --------------  -----  \n",
      " 0   PassengerId  418 non-null    int64  \n",
      " 1   Pclass       418 non-null    int64  \n",
      " 2   Name         418 non-null    object \n",
      " 3   Sex          418 non-null    object \n",
      " 4   Age          332 non-null    float64\n",
      " 5   SibSp        418 non-null    int64  \n",
      " 6   Parch        418 non-null    int64  \n",
      " 7   Ticket       418 non-null    object \n",
      " 8   Fare         417 non-null    float64\n",
      " 9   Cabin        91 non-null     object \n",
      " 10  Embarked     418 non-null    object \n",
      "dtypes: float64(2), int64(4), object(5)\n",
      "memory usage: 36.0+ KB\n"
     ]
    }
   ],
   "source": [
    "#2\n",
    "test_data.info()"
   ]
  },
  {
   "cell_type": "code",
   "execution_count": 25,
   "metadata": {},
   "outputs": [
    {
     "name": "stdout",
     "output_type": "stream",
     "text": [
      "     PassengerId  Pclass                          Name   Sex   Age  SibSp  \\\n",
      "0            892       3              Kelly, Mr. James  male  34.5      0   \n",
      "2            894       2     Myles, Mr. Thomas Francis  male  62.0      0   \n",
      "3            895       3              Wirz, Mr. Albert  male  27.0      0   \n",
      "5            897       3    Svensson, Mr. Johan Cervin  male  14.0      0   \n",
      "7            899       2  Caldwell, Mr. Albert Francis  male  26.0      1   \n",
      "..           ...     ...                           ...   ...   ...    ...   \n",
      "407         1299       1    Widener, Mr. George Dunton  male  50.0      1   \n",
      "413         1305       3            Spector, Mr. Woolf  male   NaN      0   \n",
      "415         1307       3  Saether, Mr. Simon Sivertsen  male  38.5      0   \n",
      "416         1308       3           Ware, Mr. Frederick  male   NaN      0   \n",
      "417         1309       3      Peter, Master. Michael J  male   NaN      1   \n",
      "\n",
      "     Parch              Ticket      Fare Cabin Embarked  \n",
      "0        0              330911    7.8292   NaN        Q  \n",
      "2        0              240276    9.6875   NaN        Q  \n",
      "3        0              315154    8.6625   NaN        S  \n",
      "5        0                7538    9.2250   NaN        S  \n",
      "7        1              248738   29.0000   NaN        S  \n",
      "..     ...                 ...       ...   ...      ...  \n",
      "407      1              113503  211.5000   C80        C  \n",
      "413      0           A.5. 3236    8.0500   NaN        S  \n",
      "415      0  SOTON/O.Q. 3101262    7.2500   NaN        S  \n",
      "416      0              359309    8.0500   NaN        S  \n",
      "417      1                2668   22.3583   NaN        C  \n",
      "\n",
      "[266 rows x 11 columns]\n",
      "Jumlah Data Penumpang Laki-laki: 266\n"
     ]
    }
   ],
   "source": [
    "#3\n",
    "gender = test_data['Sex'] == 'male'\n",
    "print(test_data.loc[gender])\n",
    "print(\"Jumlah Data Penumpang Laki-laki:\", len(test_data.loc[gender]))"
   ]
  },
  {
   "cell_type": "code",
   "execution_count": 17,
   "metadata": {},
   "outputs": [
    {
     "name": "stdout",
     "output_type": "stream",
     "text": [
      "     PassengerId  Pclass                                               Name  \\\n",
      "1            893       3                   Wilkes, Mrs. James (Ellen Needs)   \n",
      "9            901       3                            Davies, Mr. John Samuel   \n",
      "110         1002       2                           Stanton, Mr. Samuel Ward   \n",
      "229         1121       2                 Hocking, Mr. Samuel James Metcalfe   \n",
      "257         1149       3                              Niklasson, Mr. Samuel   \n",
      "320         1212       3                        Andersson, Mr. Johan Samuel   \n",
      "343         1235       1  Cardeza, Mrs. James Warburton Martinez (Charlo...   \n",
      "353         1245       2                                 Herman, Mr. Samuel   \n",
      "362         1254       2       Ware, Mrs. John James (Florence Louise Long)   \n",
      "391         1283       1     Lines, Mrs. Ernest H (Elizabeth Lindsey James)   \n",
      "\n",
      "        Sex   Age  SibSp  Parch     Ticket      Fare        Cabin Embarked  \n",
      "1    female  47.0      1      0     363272    7.0000          NaN        S  \n",
      "9      male  21.0      2      0  A/4 48871   24.1500          NaN        S  \n",
      "110    male  41.0      0      0     237734   15.0458          NaN        C  \n",
      "229    male  36.0      0      0     242963   13.0000          NaN        S  \n",
      "257    male  28.0      0      0     363611    8.0500          NaN        S  \n",
      "320    male  26.0      0      0     347075    7.7750          NaN        S  \n",
      "343  female  58.0      0      1   PC 17755  512.3292  B51 B53 B55        C  \n",
      "353    male  49.0      1      2     220845   65.0000          NaN        S  \n",
      "362  female  31.0      0      0   CA 31352   21.0000          NaN        S  \n",
      "391  female  51.0      0      1   PC 17592   39.4000          D28        S  \n",
      "Jumlah data penumpang: 10\n"
     ]
    }
   ],
   "source": [
    "#4\n",
    "wanita = test_data['Name'].str.contains(\"James\", case = False)\n",
    "gender1 = test_data['Sex'] == 'female'\n",
    "pria = test_data['Name'].str.contains(\"Samuel\", case = False)\n",
    "gender2 = test_data['Sex'] == 'male'\n",
    "\n",
    "print(test_data.loc[wanita&gender1 | pria&gender2])\n",
    "print(\"Jumlah data penumpang:\",len(test_data.loc[wanita&gender1 | pria&gender2]))"
   ]
  }
 ],
 "metadata": {
  "kernelspec": {
   "display_name": "Python 3.10.6 64-bit",
   "language": "python",
   "name": "python3"
  },
  "language_info": {
   "codemirror_mode": {
    "name": "ipython",
    "version": 3
   },
   "file_extension": ".py",
   "mimetype": "text/x-python",
   "name": "python",
   "nbconvert_exporter": "python",
   "pygments_lexer": "ipython3",
   "version": "3.10.6"
  },
  "orig_nbformat": 4,
  "vscode": {
   "interpreter": {
    "hash": "81ef9bf88e2d5f5faa2aa83b495ec13d2357a008a5f3b745487c3c4b7f7987a6"
   }
  }
 },
 "nbformat": 4,
 "nbformat_minor": 2
}
